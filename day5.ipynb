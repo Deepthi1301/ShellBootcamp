{
 "cells": [
  {
   "cell_type": "code",
   "execution_count": 1,
   "id": "4261c374",
   "metadata": {},
   "outputs": [
    {
     "ename": "NameError",
     "evalue": "name 'spark' is not defined",
     "output_type": "error",
     "traceback": [
      "\u001b[0;31m---------------------------------------------------------------------------\u001b[0m",
      "\u001b[0;31mNameError\u001b[0m                                 Traceback (most recent call last)",
      "Cell \u001b[0;32mIn[1], line 1\u001b[0m\n\u001b[0;32m----> 1\u001b[0m spark\u001b[38;5;241m.\u001b[39msql(\u001b[38;5;124m\"\u001b[39m\u001b[38;5;124mcreate database shellida\u001b[39m\u001b[38;5;124m\"\u001b[39m)\n\u001b[1;32m      2\u001b[0m spark\u001b[38;5;241m.\u001b[39msql(\u001b[38;5;124m\"\u001b[39m\u001b[38;5;124mshow databases\u001b[39m\u001b[38;5;124m\"\u001b[39m)\u001b[38;5;241m.\u001b[39mshow()\n\u001b[1;32m      4\u001b[0m spark\u001b[38;5;241m.\u001b[39msql(\u001b[38;5;124m\"\u001b[39m\u001b[38;5;124muse shellida\u001b[39m\u001b[38;5;124m\"\u001b[39m)\n",
      "\u001b[0;31mNameError\u001b[0m: name 'spark' is not defined"
     ]
    }
   ],
   "source": [
    "spark.sql(\"create database shellida\")\n",
    "spark.sql(\"show databases\").show()\n",
    "\n",
    "spark.sql(\"use shellida\")"
   ]
  },
  {
   "cell_type": "code",
   "execution_count": 2,
   "id": "53bf973d",
   "metadata": {},
   "outputs": [],
   "source": [
    "import findspark"
   ]
  },
  {
   "cell_type": "code",
   "execution_count": 3,
   "id": "f156b094",
   "metadata": {},
   "outputs": [],
   "source": [
    "findspark.init()\n",
    "findspark.find()\n",
    "\n",
    "from pyspark.sql import SparkSession"
   ]
  },
  {
   "cell_type": "code",
   "execution_count": 4,
   "id": "181be81b",
   "metadata": {},
   "outputs": [
    {
     "name": "stderr",
     "output_type": "stream",
     "text": [
      "Setting default log level to \"WARN\".\n",
      "To adjust logging level use sc.setLogLevel(newLevel). For SparkR, use setLogLevel(newLevel).\n",
      "23/09/25 04:19:26 WARN NativeCodeLoader: Unable to load native-hadoop library for your platform... using builtin-java classes where applicable\n",
      "23/09/25 04:19:28 WARN Utils: Service 'SparkUI' could not bind on port 4040. Attempting port 4041.\n"
     ]
    }
   ],
   "source": [
    "spark = SparkSession \\\n",
    "    .builder \\\n",
    "    .appName(\"Python Spark SQL basic example\") \\\n",
    "    .config(\"spark.some.config.option\", \"some-value\") \\\n",
    "    .getOrCreate()\n"
   ]
  },
  {
   "cell_type": "code",
   "execution_count": 5,
   "id": "48928c13",
   "metadata": {},
   "outputs": [
    {
     "name": "stdout",
     "output_type": "stream",
     "text": [
      "+---------+\n",
      "|namespace|\n",
      "+---------+\n",
      "|  default|\n",
      "| shellida|\n",
      "+---------+\n",
      "\n"
     ]
    },
    {
     "data": {
      "text/plain": [
       "DataFrame[]"
      ]
     },
     "execution_count": 5,
     "metadata": {},
     "output_type": "execute_result"
    }
   ],
   "source": [
    "spark.sql(\"create database shellida\")\n",
    "spark.sql(\"show databases\").show()\n",
    "\n",
    "spark.sql(\"use shellida\")"
   ]
  },
  {
   "cell_type": "code",
   "execution_count": 8,
   "id": "f99e4cf7",
   "metadata": {},
   "outputs": [
    {
     "name": "stdout",
     "output_type": "stream",
     "text": [
      "+---------+---------+-----------+\n",
      "|namespace|tableName|isTemporary|\n",
      "+---------+---------+-----------+\n",
      "+---------+---------+-----------+\n",
      "\n"
     ]
    }
   ],
   "source": [
    "spark.sql(\"show tables\").show()"
   ]
  },
  {
   "cell_type": "code",
   "execution_count": 9,
   "id": "f45f25aa",
   "metadata": {},
   "outputs": [
    {
     "name": "stderr",
     "output_type": "stream",
     "text": [
      "                                                                                \r"
     ]
    }
   ],
   "source": [
    "salesdf = spark.read.option(\"header\",\"true\").option(\"inferSchema\",\"true\").csv(\"/home/labuser/Downloads/datasets/superstore.csv\")"
   ]
  },
  {
   "cell_type": "code",
   "execution_count": 17,
   "id": "48f79381",
   "metadata": {},
   "outputs": [
    {
     "ename": "AnalysisException",
     "evalue": "[TABLE_OR_VIEW_ALREADY_EXISTS] Cannot create table or view `spark_catalog`.`shellida`.`employee` because it already exists.\nChoose a different name, drop or replace the existing object, or add the IF NOT EXISTS clause to tolerate pre-existing objects.",
     "output_type": "error",
     "traceback": [
      "\u001b[0;31m---------------------------------------------------------------------------\u001b[0m",
      "\u001b[0;31mAnalysisException\u001b[0m                         Traceback (most recent call last)",
      "Cell \u001b[0;32mIn[17], line 1\u001b[0m\n\u001b[0;32m----> 1\u001b[0m salesdf\u001b[38;5;241m.\u001b[39mwrite\u001b[38;5;241m.\u001b[39msaveAsTable(\u001b[38;5;124m\"\u001b[39m\u001b[38;5;124memployee\u001b[39m\u001b[38;5;124m\"\u001b[39m)\n",
      "File \u001b[0;32m/opt/anaconda3/lib/python3.11/site-packages/pyspark/sql/readwriter.py:1521\u001b[0m, in \u001b[0;36mDataFrameWriter.saveAsTable\u001b[0;34m(self, name, format, mode, partitionBy, **options)\u001b[0m\n\u001b[1;32m   1519\u001b[0m \u001b[38;5;28;01mif\u001b[39;00m \u001b[38;5;28mformat\u001b[39m \u001b[38;5;129;01mis\u001b[39;00m \u001b[38;5;129;01mnot\u001b[39;00m \u001b[38;5;28;01mNone\u001b[39;00m:\n\u001b[1;32m   1520\u001b[0m     \u001b[38;5;28mself\u001b[39m\u001b[38;5;241m.\u001b[39mformat(\u001b[38;5;28mformat\u001b[39m)\n\u001b[0;32m-> 1521\u001b[0m \u001b[38;5;28mself\u001b[39m\u001b[38;5;241m.\u001b[39m_jwrite\u001b[38;5;241m.\u001b[39msaveAsTable(name)\n",
      "File \u001b[0;32m/opt/anaconda3/lib/python3.11/site-packages/py4j/java_gateway.py:1322\u001b[0m, in \u001b[0;36mJavaMember.__call__\u001b[0;34m(self, *args)\u001b[0m\n\u001b[1;32m   1316\u001b[0m command \u001b[38;5;241m=\u001b[39m proto\u001b[38;5;241m.\u001b[39mCALL_COMMAND_NAME \u001b[38;5;241m+\u001b[39m\\\n\u001b[1;32m   1317\u001b[0m     \u001b[38;5;28mself\u001b[39m\u001b[38;5;241m.\u001b[39mcommand_header \u001b[38;5;241m+\u001b[39m\\\n\u001b[1;32m   1318\u001b[0m     args_command \u001b[38;5;241m+\u001b[39m\\\n\u001b[1;32m   1319\u001b[0m     proto\u001b[38;5;241m.\u001b[39mEND_COMMAND_PART\n\u001b[1;32m   1321\u001b[0m answer \u001b[38;5;241m=\u001b[39m \u001b[38;5;28mself\u001b[39m\u001b[38;5;241m.\u001b[39mgateway_client\u001b[38;5;241m.\u001b[39msend_command(command)\n\u001b[0;32m-> 1322\u001b[0m return_value \u001b[38;5;241m=\u001b[39m get_return_value(\n\u001b[1;32m   1323\u001b[0m     answer, \u001b[38;5;28mself\u001b[39m\u001b[38;5;241m.\u001b[39mgateway_client, \u001b[38;5;28mself\u001b[39m\u001b[38;5;241m.\u001b[39mtarget_id, \u001b[38;5;28mself\u001b[39m\u001b[38;5;241m.\u001b[39mname)\n\u001b[1;32m   1325\u001b[0m \u001b[38;5;28;01mfor\u001b[39;00m temp_arg \u001b[38;5;129;01min\u001b[39;00m temp_args:\n\u001b[1;32m   1326\u001b[0m     \u001b[38;5;28;01mif\u001b[39;00m \u001b[38;5;28mhasattr\u001b[39m(temp_arg, \u001b[38;5;124m\"\u001b[39m\u001b[38;5;124m_detach\u001b[39m\u001b[38;5;124m\"\u001b[39m):\n",
      "File \u001b[0;32m/opt/anaconda3/lib/python3.11/site-packages/pyspark/errors/exceptions/captured.py:175\u001b[0m, in \u001b[0;36mcapture_sql_exception.<locals>.deco\u001b[0;34m(*a, **kw)\u001b[0m\n\u001b[1;32m    171\u001b[0m converted \u001b[38;5;241m=\u001b[39m convert_exception(e\u001b[38;5;241m.\u001b[39mjava_exception)\n\u001b[1;32m    172\u001b[0m \u001b[38;5;28;01mif\u001b[39;00m \u001b[38;5;129;01mnot\u001b[39;00m \u001b[38;5;28misinstance\u001b[39m(converted, UnknownException):\n\u001b[1;32m    173\u001b[0m     \u001b[38;5;66;03m# Hide where the exception came from that shows a non-Pythonic\u001b[39;00m\n\u001b[1;32m    174\u001b[0m     \u001b[38;5;66;03m# JVM exception message.\u001b[39;00m\n\u001b[0;32m--> 175\u001b[0m     \u001b[38;5;28;01mraise\u001b[39;00m converted \u001b[38;5;28;01mfrom\u001b[39;00m \u001b[38;5;28;01mNone\u001b[39;00m\n\u001b[1;32m    176\u001b[0m \u001b[38;5;28;01melse\u001b[39;00m:\n\u001b[1;32m    177\u001b[0m     \u001b[38;5;28;01mraise\u001b[39;00m\n",
      "\u001b[0;31mAnalysisException\u001b[0m: [TABLE_OR_VIEW_ALREADY_EXISTS] Cannot create table or view `spark_catalog`.`shellida`.`employee` because it already exists.\nChoose a different name, drop or replace the existing object, or add the IF NOT EXISTS clause to tolerate pre-existing objects."
     ]
    }
   ],
   "source": [
    "salesdf.write.saveAsTable(\"employee\")"
   ]
  },
  {
   "cell_type": "code",
   "execution_count": 22,
   "id": "6cea4683",
   "metadata": {},
   "outputs": [
    {
     "name": "stdout",
     "output_type": "stream",
     "text": [
      "+---------+---------+-----------+\n",
      "|namespace|tableName|isTemporary|\n",
      "+---------+---------+-----------+\n",
      "| shellida| employee|      false|\n",
      "| shellida|     sale|      false|\n",
      "+---------+---------+-----------+\n",
      "\n"
     ]
    }
   ],
   "source": [
    "spark.sql(\"show tables\").show()"
   ]
  },
  {
   "cell_type": "code",
   "execution_count": 15,
   "id": "690c9262",
   "metadata": {},
   "outputs": [],
   "source": [
    "salesdf=spark.read.option(\"header\",\"true\").option(\"inferSchema\",\"true\").csv(\"/home/labuser/Downloads/datasets/superstore.csv\")\n"
   ]
  },
  {
   "cell_type": "code",
   "execution_count": 20,
   "id": "04cc85ad",
   "metadata": {},
   "outputs": [
    {
     "name": "stderr",
     "output_type": "stream",
     "text": [
      "                                                                                \r"
     ]
    }
   ],
   "source": [
    "salesdf.write.mode(\"overwrite\").saveAsTable(\"sale\")\n",
    "\n"
   ]
  },
  {
   "cell_type": "code",
   "execution_count": 23,
   "id": "5cc3cb7b",
   "metadata": {},
   "outputs": [],
   "source": [
    "sales4tabledf= spark.read.table(\"sale\")"
   ]
  },
  {
   "cell_type": "code",
   "execution_count": 24,
   "id": "9d431b96",
   "metadata": {},
   "outputs": [
    {
     "data": {
      "text/plain": [
       "51290"
      ]
     },
     "execution_count": 24,
     "metadata": {},
     "output_type": "execute_result"
    }
   ],
   "source": [
    "sales4tabledf.count()"
   ]
  },
  {
   "cell_type": "code",
   "execution_count": 25,
   "id": "06d98974",
   "metadata": {},
   "outputs": [
    {
     "name": "stderr",
     "output_type": "stream",
     "text": [
      "                                                                                \r"
     ]
    }
   ],
   "source": [
    "salesdf.write.mode('append').saveAsTable(\"sales\")"
   ]
  },
  {
   "cell_type": "code",
   "execution_count": 26,
   "id": "6cce2e36",
   "metadata": {},
   "outputs": [],
   "source": [
    "salesdf.write.mode('ignore').saveAsTable(\"sales\")"
   ]
  },
  {
   "cell_type": "code",
   "execution_count": 27,
   "id": "808e3dcc",
   "metadata": {},
   "outputs": [
    {
     "data": {
      "text/plain": [
       "2"
      ]
     },
     "execution_count": 27,
     "metadata": {},
     "output_type": "execute_result"
    }
   ],
   "source": [
    "salesdf.rdd.getNumPartitions()"
   ]
  },
  {
   "cell_type": "code",
   "execution_count": 31,
   "id": "0a972041",
   "metadata": {},
   "outputs": [
    {
     "name": "stdout",
     "output_type": "stream",
     "text": [
      "+-------------+--------------+----------+\n",
      "|      country|         state|    Profit|\n",
      "+-------------+--------------+----------+\n",
      "|United States|      New York|  762.1845|\n",
      "|United States|    California|  1906.485|\n",
      "|United States|North Carolina|-1862.3124|\n",
      "|United States|      Virginia|    83.281|\n",
      "|United States|      Kentucky|  517.4793|\n",
      "|United States|      Illinois|   341.994|\n",
      "|United States|    California|  363.9048|\n",
      "|United States|         Texas|   -350.49|\n",
      "|United States|    California|  135.4068|\n",
      "|United States|      New York| 1371.9804|\n",
      "|United States|North Carolina|-3839.9904|\n",
      "|United States|     Minnesota| 4630.4755|\n",
      "|United States|      New York|  1143.891|\n",
      "|United States|    California|   839.986|\n",
      "|United States|    Washington| 1480.4671|\n",
      "|United States|       Florida|  327.5922|\n",
      "|United States|      New York|  2229.024|\n",
      "|United States|      Virginia|  694.5015|\n",
      "|United States|       Georgia|  3177.475|\n",
      "|United States|      Michigan| 2504.2216|\n",
      "+-------------+--------------+----------+\n",
      "only showing top 20 rows\n",
      "\n"
     ]
    }
   ],
   "source": [
    "sales4tabledf= spark.read.table(\"sales\")\n",
    "\n",
    "\n",
    "sales_US=salesdf.select(\"country\",\"state\",\"Profit\").filter(\"country='United States'\").show()\n",
    "\n",
    "\n",
    "\n",
    "\n",
    "\n"
   ]
  },
  {
   "cell_type": "code",
   "execution_count": 32,
   "id": "38334d1c",
   "metadata": {},
   "outputs": [
    {
     "name": "stdout",
     "output_type": "stream",
     "text": [
      "+-------------+--------------+--------+\n",
      "|      Country|         state|totSales|\n",
      "+-------------+--------------+--------+\n",
      "|United States|      Virginia|   17154|\n",
      "|United States|South Carolina|    1774|\n",
      "|United States| West Virginia|     186|\n",
      "|United States|         Maine|     417|\n",
      "|United States|       Montana|    1852|\n",
      "|United States|       Alabama|    4645|\n",
      "|United States|       Wyoming|     100|\n",
      "|United States|         Idaho|     695|\n",
      "|United States|    New Jersey|    6916|\n",
      "|United States|      Arkansas|    3437|\n",
      "|United States|      Michigan|   21869|\n",
      "|United States|      Illinois|   -9298|\n",
      "|United States|          Ohio|  -14490|\n",
      "|United States|      New York|   65943|\n",
      "|United States|      Missouri|    6208|\n",
      "|United States|   Mississippi|    2445|\n",
      "|United States|      Nebraska|    1421|\n",
      "|United States|     Minnesota|    9820|\n",
      "|United States|    Washington|   29900|\n",
      "|United States|        Kansas|     794|\n",
      "+-------------+--------------+--------+\n",
      "only showing top 20 rows\n",
      "\n",
      "+------------+-----------+\n",
      "|      Region|    country|\n",
      "+------------+-----------+\n",
      "|Central Asia|      Nepal|\n",
      "|Central Asia|Afghanistan|\n",
      "|Central Asia| Bangladesh|\n",
      "|Central Asia|  Sri Lanka|\n",
      "|Central Asia|   Pakistan|\n",
      "|Central Asia|      India|\n",
      "+------------+-----------+\n",
      "\n",
      "+-------+------------+--------------------+\n",
      "|country|      region|         avg(profit)|\n",
      "+-------+------------+--------------------+\n",
      "|  India|Central Asia|0.017684887459807074|\n",
      "+-------+------------+--------------------+\n",
      "\n"
     ]
    }
   ],
   "source": [
    "from pyspark.sql.functions import col, sum\n",
    "\n",
    "sales_US =salesdf.groupBy(\"Country\",\"state\").agg(sum(col(\"Profit\").cast('int')).alias(\"totSales\")).filter(\"country='United States'\").show()\n",
    "\n",
    "salesdf.select(\"Region\",\"country\").sort(col(\"region\").desc()).orderBy(\"country\",ascending=False).filter(\"region='Central Asia'\").distinct().show()\n",
    "\n",
    "spark.sql(\"select country,region,avg(profit) from sales group by country,region\").filter(\"Country='India'\").orderBy(\"region\").show()\n",
    "\n"
   ]
  },
  {
   "cell_type": "code",
   "execution_count": 33,
   "id": "ea06c73b",
   "metadata": {},
   "outputs": [
    {
     "name": "stdout",
     "output_type": "stream",
     "text": [
      "+-------------+--------------+--------+-------------------+\n",
      "|      Country|         state|totSales|           AvgSales|\n",
      "+-------------+--------------+--------+-------------------+\n",
      "|United States|      Virginia|   17154|  76.58035714285714|\n",
      "|United States|South Carolina|    1774|  42.23809523809524|\n",
      "|United States| West Virginia|     186|               46.5|\n",
      "|United States|         Maine|     417|             52.125|\n",
      "|United States|       Montana|    1852| 123.46666666666667|\n",
      "|United States|       Alabama|    4645|  76.14754098360656|\n",
      "|United States|       Wyoming|     100|              100.0|\n",
      "|United States|         Idaho|     695| 33.095238095238095|\n",
      "|United States|    New Jersey|    6916|   53.6124031007752|\n",
      "|United States|      Arkansas|    3437|  57.28333333333333|\n",
      "|United States|      Michigan|   21869|   86.0984251968504|\n",
      "|United States|      Illinois|   -9298|-18.898373983739837|\n",
      "|United States|          Ohio|  -14490|-30.895522388059703|\n",
      "|United States|      New York|   65943|  58.77272727272727|\n",
      "|United States|      Missouri|    6208|  94.06060606060606|\n",
      "|United States|   Mississippi|    2445| 46.132075471698116|\n",
      "|United States|      Nebraska|    1421|  37.39473684210526|\n",
      "|United States|     Minnesota|    9820| 110.33707865168539|\n",
      "|United States|    Washington|   29900|  59.20792079207921|\n",
      "|United States|        Kansas|     794| 33.083333333333336|\n",
      "+-------------+--------------+--------+-------------------+\n",
      "only showing top 20 rows\n",
      "\n"
     ]
    }
   ],
   "source": [
    "from pyspark.sql.functions import col, sum,avg\n",
    "\n",
    "sales_US =salesdf.groupBy(\"Country\",\"state\").agg(sum(col(\"Profit\").cast('int')).alias(\"totSales\"),avg(col(\"Profit\").cast('int')).alias(\"AvgSales\")).filter(\"country='United States'\").show()\n"
   ]
  },
  {
   "cell_type": "code",
   "execution_count": 38,
   "id": "796e57e4",
   "metadata": {},
   "outputs": [],
   "source": [
    "from pyspark.sql.functions import lit\n"
   ]
  },
  {
   "cell_type": "code",
   "execution_count": 39,
   "id": "63df28e5",
   "metadata": {},
   "outputs": [],
   "source": [
    "sales_US=salesdf.select(\"country\",\"state\",\"Profit\").filter(\"country='United States'\")\n"
   ]
  },
  {
   "cell_type": "code",
   "execution_count": 40,
   "id": "1a9012e5",
   "metadata": {},
   "outputs": [
    {
     "name": "stdout",
     "output_type": "stream",
     "text": [
      "+-------------+--------------+----------+-----------+\n",
      "|      country|         state|    Profit|CountryCode|\n",
      "+-------------+--------------+----------+-----------+\n",
      "|United States|      New York|  762.1845|         US|\n",
      "|United States|    California|  1906.485|         US|\n",
      "|United States|North Carolina|-1862.3124|         US|\n",
      "|United States|      Virginia|    83.281|         US|\n",
      "|United States|      Kentucky|  517.4793|         US|\n",
      "|United States|      Illinois|   341.994|         US|\n",
      "|United States|    California|  363.9048|         US|\n",
      "|United States|         Texas|   -350.49|         US|\n",
      "|United States|    California|  135.4068|         US|\n",
      "|United States|      New York| 1371.9804|         US|\n",
      "|United States|North Carolina|-3839.9904|         US|\n",
      "|United States|     Minnesota| 4630.4755|         US|\n",
      "|United States|      New York|  1143.891|         US|\n",
      "|United States|    California|   839.986|         US|\n",
      "|United States|    Washington| 1480.4671|         US|\n",
      "|United States|       Florida|  327.5922|         US|\n",
      "|United States|      New York|  2229.024|         US|\n",
      "|United States|      Virginia|  694.5015|         US|\n",
      "|United States|       Georgia|  3177.475|         US|\n",
      "|United States|      Michigan| 2504.2216|         US|\n",
      "+-------------+--------------+----------+-----------+\n",
      "only showing top 20 rows\n",
      "\n"
     ]
    },
    {
     "ename": "NameError",
     "evalue": "name 'df' is not defined",
     "output_type": "error",
     "traceback": [
      "\u001b[0;31m---------------------------------------------------------------------------\u001b[0m",
      "\u001b[0;31mNameError\u001b[0m                                 Traceback (most recent call last)",
      "Cell \u001b[0;32mIn[40], line 4\u001b[0m\n\u001b[1;32m      1\u001b[0m sales_US\u001b[38;5;241m.\u001b[39mwithColumn(\u001b[38;5;124m\"\u001b[39m\u001b[38;5;124mCountryCode\u001b[39m\u001b[38;5;124m\"\u001b[39m,lit(\u001b[38;5;124m\"\u001b[39m\u001b[38;5;124mUS\u001b[39m\u001b[38;5;124m\"\u001b[39m))\u001b[38;5;241m.\u001b[39mshow()\n\u001b[0;32m----> 4\u001b[0m df \u001b[38;5;241m=\u001b[39m df\u001b[38;5;241m.\u001b[39mwithColumn(\u001b[38;5;124m\"\u001b[39m\u001b[38;5;124mAgePlusTen\u001b[39m\u001b[38;5;124m\"\u001b[39m, col(\u001b[38;5;124m\"\u001b[39m\u001b[38;5;124mAge\u001b[39m\u001b[38;5;124m\"\u001b[39m) \u001b[38;5;241m+\u001b[39m \u001b[38;5;241m10\u001b[39m)\n\u001b[1;32m      6\u001b[0m test_df \u001b[38;5;241m=\u001b[39m purchasedf_01\u001b[38;5;241m.\u001b[39mwithColumn(\u001b[38;5;124m\"\u001b[39m\u001b[38;5;124mrating_value\u001b[39m\u001b[38;5;124m\"\u001b[39m, when(col(\u001b[38;5;124m\"\u001b[39m\u001b[38;5;124mRating\u001b[39m\u001b[38;5;124m\"\u001b[39m)\u001b[38;5;241m>\u001b[39m\u001b[38;5;241m=\u001b[39m\u001b[38;5;241m2\u001b[39m,\u001b[38;5;124m\"\u001b[39m\u001b[38;5;124mAverage\u001b[39m\u001b[38;5;124m\"\u001b[39m)\u001b[38;5;241m.\u001b[39mwhen(col(\u001b[38;5;124m\"\u001b[39m\u001b[38;5;124mRating\u001b[39m\u001b[38;5;124m\"\u001b[39m)\u001b[38;5;241m>\u001b[39m\u001b[38;5;241m=\u001b[39m\u001b[38;5;241m5\u001b[39m,\u001b[38;5;124m\"\u001b[39m\u001b[38;5;124mGood\u001b[39m\u001b[38;5;124m\"\u001b[39m)\u001b[38;5;241m.\u001b[39motherwise(\u001b[38;5;124m\"\u001b[39m\u001b[38;5;124mNA\u001b[39m\u001b[38;5;124m\"\u001b[39m))\n",
      "\u001b[0;31mNameError\u001b[0m: name 'df' is not defined"
     ]
    }
   ],
   "source": [
    "sales_US.withColumn(\"CountryCode\",lit(\"US\")).show()\n",
    "\n",
    "\n",
    "df = df.withColumn(\"AgePlusTen\", col(\"Age\") + 10)\n",
    "\n",
    "test_df = purchasedf_01.withColumn(\"rating_value\", when(col(\"Rating\")>=2,\"Average\").when(col(\"Rating\")>=5,\"Good\").otherwise(\"NA\"))\n"
   ]
  },
  {
   "cell_type": "code",
   "execution_count": 41,
   "id": "d81137f4",
   "metadata": {},
   "outputs": [
    {
     "data": {
      "text/plain": [
       "DataFrame[country: string, state: string, Profit: string]"
      ]
     },
     "execution_count": 41,
     "metadata": {},
     "output_type": "execute_result"
    }
   ],
   "source": [
    "sales_US=sales_US.withColumnRenamed(\"totSales\",\"TotalSales\")\n",
    "\n",
    "sales_US.drop(\"AvgSales\")"
   ]
  },
  {
   "cell_type": "code",
   "execution_count": 44,
   "id": "fa8e8876",
   "metadata": {},
   "outputs": [
    {
     "ename": "NameError",
     "evalue": "name 'when' is not defined",
     "output_type": "error",
     "traceback": [
      "\u001b[0;31m---------------------------------------------------------------------------\u001b[0m",
      "\u001b[0;31mNameError\u001b[0m                                 Traceback (most recent call last)",
      "Cell \u001b[0;32mIn[44], line 1\u001b[0m\n\u001b[0;32m----> 1\u001b[0m sales_withcolumn \u001b[38;5;241m=\u001b[39m salesdf\u001b[38;5;241m.\u001b[39mwithColumn(\u001b[38;5;124m\"\u001b[39m\u001b[38;5;124mSalesLevel\u001b[39m\u001b[38;5;124m\"\u001b[39m, when(col(\u001b[38;5;124m\"\u001b[39m\u001b[38;5;124mprofit\u001b[39m\u001b[38;5;124m\"\u001b[39m)\u001b[38;5;241m>\u001b[39m\u001b[38;5;241m=\u001b[39m\u001b[38;5;241m10000\u001b[39m,\u001b[38;5;124m\"\u001b[39m\u001b[38;5;124mHigh\u001b[39m\u001b[38;5;124m\"\u001b[39m)\u001b[38;5;241m.\u001b[39mwhen(col(\u001b[38;5;124m\"\u001b[39m\u001b[38;5;124mprofit\u001b[39m\u001b[38;5;124m\"\u001b[39m)\u001b[38;5;241m<\u001b[39m\u001b[38;5;241m10000\u001b[39m,\u001b[38;5;124m\"\u001b[39m\u001b[38;5;124mAverage\u001b[39m\u001b[38;5;124m\"\u001b[39m)\u001b[38;5;241m.\u001b[39motherwise(\u001b[38;5;124m\"\u001b[39m\u001b[38;5;124mNA\u001b[39m\u001b[38;5;124m\"\u001b[39m))\n",
      "\u001b[0;31mNameError\u001b[0m: name 'when' is not defined"
     ]
    }
   ],
   "source": [
    "sales_withcolumn = salesdf.withColumn(\"SalesLevel\", when(col(\"profit\")>=10000,\"High\").when(col(\"profit\")<10000,\"Average\").otherwise(\"NA\"))  \n"
   ]
  },
  {
   "cell_type": "code",
   "execution_count": null,
   "id": "60ebea4f",
   "metadata": {},
   "outputs": [],
   "source": []
  }
 ],
 "metadata": {
  "kernelspec": {
   "display_name": "Python 3 (ipykernel)",
   "language": "python",
   "name": "python3"
  },
  "language_info": {
   "codemirror_mode": {
    "name": "ipython",
    "version": 3
   },
   "file_extension": ".py",
   "mimetype": "text/x-python",
   "name": "python",
   "nbconvert_exporter": "python",
   "pygments_lexer": "ipython3",
   "version": "3.11.4"
  }
 },
 "nbformat": 4,
 "nbformat_minor": 5
}
