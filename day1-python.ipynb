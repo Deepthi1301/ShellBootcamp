{
 "cells": [
  {
   "cell_type": "code",
   "execution_count": 2,
   "id": "7f317589",
   "metadata": {},
   "outputs": [],
   "source": [
    "m1=100\n",
    "m2=100"
   ]
  },
  {
   "cell_type": "code",
   "execution_count": 3,
   "id": "f0795bbd",
   "metadata": {},
   "outputs": [
    {
     "data": {
      "text/plain": [
       "8888168"
      ]
     },
     "execution_count": 3,
     "metadata": {},
     "output_type": "execute_result"
    }
   ],
   "source": [
    "id(m1)"
   ]
  },
  {
   "cell_type": "code",
   "execution_count": 8,
   "id": "c1f2f99d",
   "metadata": {},
   "outputs": [
    {
     "data": {
      "text/plain": [
       "8888168"
      ]
     },
     "execution_count": 8,
     "metadata": {},
     "output_type": "execute_result"
    }
   ],
   "source": [
    "id(m2)"
   ]
  },
  {
   "cell_type": "code",
   "execution_count": 9,
   "id": "7cf548ce",
   "metadata": {},
   "outputs": [],
   "source": [
    "m3=300\n",
    "m4=300"
   ]
  },
  {
   "cell_type": "code",
   "execution_count": 5,
   "id": "6294d14e",
   "metadata": {},
   "outputs": [
    {
     "data": {
      "text/plain": [
       "int"
      ]
     },
     "execution_count": 5,
     "metadata": {},
     "output_type": "execute_result"
    }
   ],
   "source": [
    "var1 = (1)\n",
    "type(var1)"
   ]
  },
  {
   "cell_type": "code",
   "execution_count": 12,
   "id": "4a504048",
   "metadata": {},
   "outputs": [
    {
     "name": "stdout",
     "output_type": "stream",
     "text": [
      "140168749678064\n",
      "140168749677232\n"
     ]
    }
   ],
   "source": [
    "print(id(m3))\n",
    "print(id(m4))"
   ]
  },
  {
   "cell_type": "code",
   "execution_count": 7,
   "id": "00ce71b4",
   "metadata": {},
   "outputs": [
    {
     "data": {
      "text/plain": [
       "tuple"
      ]
     },
     "execution_count": 7,
     "metadata": {},
     "output_type": "execute_result"
    }
   ],
   "source": [
    "var1=(1,)\n",
    "type(var1)"
   ]
  },
  {
   "cell_type": "code",
   "execution_count": 21,
   "id": "4a82a9f3",
   "metadata": {},
   "outputs": [
    {
     "name": "stdout",
     "output_type": "stream",
     "text": [
      "Enter an integer10\n"
     ]
    }
   ],
   "source": [
    "a = int(input(\"Enter an integer\"))"
   ]
  },
  {
   "cell_type": "code",
   "execution_count": 25,
   "id": "c20f2879",
   "metadata": {},
   "outputs": [
    {
     "name": "stdout",
     "output_type": "stream",
     "text": [
      "Is it the weekend? true\n",
      "Is the weather good? fals\n"
     ]
    }
   ],
   "source": [
    "weekend = bool(input(\"Is it the weekend? \"))\n",
    "good_weather = bool(input(\"Is the weather good? \"))"
   ]
  },
  {
   "cell_type": "markdown",
   "id": "d629a7a7",
   "metadata": {},
   "source": [
    "Scenario: Online Weather Service Integration\n",
    "\n",
    "Imagine you are developing a weather monitoring and recommendation system for a travel app. Your system needs to provide weather information and suggest outdoor activities to users based on current weather conditions and user preferences. This scenario involves various Python operations as described in the hands-on exercise.\n",
    "\n",
    "1. Working with Boolean Values and Logical Operators:\n",
    "\n",
    "You have access to weather data, including whether it's sunny and whether it's the weekend. You use these Boolean values to determine if it's good weather and if it's suitable for outdoor activities. For example, if it's sunny and not the weekend, it's considered good weather and suitable for outdoor activities.\n",
    "\n",
    "2. Using Membership Operators:\n",
    "\n",
    "Your system allows users to set preferences for their favorite fruits and activities. You check if the user's preferred fruits are available in the local market and if their preferred activities are available in the area. You use the \"in\" operator to check if these preferences exist.\n",
    "\n",
    "3. String Formatting:\n",
    "\n",
    "You send personalized weather updates to users via email or SMS. You use string formatting to create messages like: \"Hello [User], the current temperature is [Temperature]°C, and the forecast is [Forecast].\" You replace placeholders with actual values before sending these messages.\n",
    "\n",
    "4. Working with Lists:\n",
    "\n",
    "Your system maintains a list of recommended outdoor activities based on weather conditions. Depending on the weather, you suggest activities like hiking, picnicking, or indoor activities like visiting a museum. You also keep track of users' past activities in a list and use list operations to update their activity history.\n"
   ]
  },
  {
   "cell_type": "code",
   "execution_count": 27,
   "id": "18d277c4",
   "metadata": {},
   "outputs": [],
   "source": [
    "dates = ['2023-09-01', '2023-09-02', '2023-09-03', '2023-09-04', '2023-09-05']\n",
    "temperature = [78, 82, 79, 85, 88]\n",
    "humidity = [60, 65, 62, 58, 57]\n",
    "precipitation = [0.0, 0.2, 0.0, 0.0, 0.0]"
   ]
  },
  {
   "cell_type": "code",
   "execution_count": 30,
   "id": "62f4f48d",
   "metadata": {},
   "outputs": [],
   "source": [
    "weather_data = list(zip(dates,temperature,humidity,precipitation))"
   ]
  },
  {
   "cell_type": "code",
   "execution_count": 31,
   "id": "6ee7d998",
   "metadata": {},
   "outputs": [
    {
     "name": "stdout",
     "output_type": "stream",
     "text": [
      "[('2023-09-01', 78, 60, 0.0), ('2023-09-02', 82, 65, 0.2), ('2023-09-03', 79, 62, 0.0), ('2023-09-04', 85, 58, 0.0), ('2023-09-05', 88, 57, 0.0)]\n"
     ]
    }
   ],
   "source": [
    "print(weather_data)"
   ]
  },
  {
   "cell_type": "code",
   "execution_count": 33,
   "id": "e1a33aac",
   "metadata": {},
   "outputs": [],
   "source": [
    "hot_days = []\n",
    "for idx, temp in enumerate(temperature):\n",
    "    if temp > 80:\n",
    "        hot_days.append(dates[idx])"
   ]
  },
  {
   "cell_type": "code",
   "execution_count": 34,
   "id": "51e782c7",
   "metadata": {},
   "outputs": [
    {
     "name": "stdout",
     "output_type": "stream",
     "text": [
      "['2023-09-02', '2023-09-04', '2023-09-05']\n"
     ]
    }
   ],
   "source": [
    "print(hot_days)"
   ]
  },
  {
   "cell_type": "code",
   "execution_count": 36,
   "id": "77bc4910",
   "metadata": {},
   "outputs": [
    {
     "name": "stdout",
     "output_type": "stream",
     "text": [
      "Enter your name: Deepthi\n"
     ]
    }
   ],
   "source": [
    "name = input(\"Enter your name: \")\n",
    "forecast = \"hot and sunny\"\n",
    "temp = 89"
   ]
  },
  {
   "cell_type": "code",
   "execution_count": 41,
   "id": "98484f94",
   "metadata": {},
   "outputs": [
    {
     "name": "stdout",
     "output_type": "stream",
     "text": [
      "Hello Deepthi the current temperature is 88 degree C and the forecast is hot and sunny\n"
     ]
    }
   ],
   "source": [
    "print(\"Hello \" + name+\" the current temperature is \" + str(temp)+\" degree C and the forecast is \"+ forecast)"
   ]
  },
  {
   "cell_type": "code",
   "execution_count": null,
   "id": "326c5003",
   "metadata": {},
   "outputs": [],
   "source": [
    "##Id|API Number|Year|Month|OilAndGasGroup|Production|CumulativeCalendarMonths|CumulativeCalendarYears|Production Phase|Production Forecast Group|OilAndGasCategory\n",
    "##120940305|33-053-05925-0000|2015|8|G|357.83334|4|0|L|R|G"
   ]
  },
  {
   "cell_type": "code",
   "execution_count": null,
   "id": "9cfbed29",
   "metadata": {},
   "outputs": [],
   "source": []
  },
  {
   "cell_type": "code",
   "execution_count": 42,
   "id": "49b1bca8",
   "metadata": {},
   "outputs": [],
   "source": [
    "prod_data = [\"id\",\"API Number\", \"Year\", \"Month\", \"OilAndGasGroup\",\"Production\",\"CumulativeCalendarMonths\",\"CumulativeCalendarYears\",\"Production Phase\",\"Production Forecast Group\",\"OilAndGasCategory\"]"
   ]
  },
  {
   "cell_type": "code",
   "execution_count": 1,
   "id": "85486a48",
   "metadata": {},
   "outputs": [],
   "source": [
    "data = [\"120940305\",\"33-053-05925-0000\",\"2015\",\"8\",\"G\",\"357.83334\",\"\"]"
   ]
  },
  {
   "cell_type": "code",
   "execution_count": 6,
   "id": "fb03f524",
   "metadata": {},
   "outputs": [],
   "source": [
    "# Calculate Boyle's temperature using pressure and volume\n",
    "import sys\n",
    "\n",
    "def calcTemp (p1, v1, p2) :\n",
    "    p = float(p1)\n",
    "    v = float(v1)\n",
    "    p_2 = float(p2)\n",
    "    \n",
    "    if(p_2 == 0):\n",
    "        print(\"P2 is zero, cannot calculate\")\n",
    "        sys.exit()\n",
    "    temp = (p*v)/p_2\n",
    "    return temp\n"
   ]
  },
  {
   "cell_type": "code",
   "execution_count": 2,
   "id": "f98ea040",
   "metadata": {},
   "outputs": [
    {
     "name": "stdout",
     "output_type": "stream",
     "text": [
      "P2 is zero, cannot calculate\n"
     ]
    },
    {
     "ename": "SystemExit",
     "evalue": "",
     "output_type": "error",
     "traceback": [
      "An exception has occurred, use %tb to see the full traceback.\n",
      "\u001b[0;31mSystemExit\u001b[0m\n"
     ]
    },
    {
     "name": "stderr",
     "output_type": "stream",
     "text": [
      "/opt/anaconda3/lib/python3.11/site-packages/IPython/core/interactiveshell.py:3513: UserWarning: To exit: use 'exit', 'quit', or Ctrl-D.\n",
      "  warn(\"To exit: use 'exit', 'quit', or Ctrl-D.\", stacklevel=1)\n"
     ]
    }
   ],
   "source": [
    "calcTemp(0.4,77,0)"
   ]
  },
  {
   "cell_type": "code",
   "execution_count": 5,
   "id": "ee07f1ca",
   "metadata": {},
   "outputs": [
    {
     "name": "stdout",
     "output_type": "stream",
     "text": [
      "7.2\n"
     ]
    }
   ],
   "source": [
    "temp = lambda p1, v1, p2 : (p1*v1)/p2\n",
    "print(temp (8,9,10))"
   ]
  },
  {
   "cell_type": "code",
   "execution_count": 12,
   "id": "d122f8e8",
   "metadata": {},
   "outputs": [
    {
     "name": "stdout",
     "output_type": "stream",
     "text": [
      "2023-09-19 04:44:56.150016\n"
     ]
    }
   ],
   "source": [
    "#Date and time\n",
    "\n",
    "import time\n",
    "import datetime\n",
    "\n",
    "# Print current date and time in the format YYYY-MM-DD HH:MM:SS\n",
    "presentDate = datetime.datetime.now()\n",
    "print(presentDate)\n",
    "\n",
    "# Print the unix timestamp\n",
    "def unix_time (given_time):\n",
    "    unix_timestamp = datetime.datetime.timestamp(given_time)*1000\n",
    "    print(unix_timestamp)"
   ]
  },
  {
   "cell_type": "code",
   "execution_count": 13,
   "id": "fe87a480",
   "metadata": {},
   "outputs": [],
   "source": [
    "def custom_timestamp (format) :\n",
    "    cur_time = datetime.datetime.now()\n",
    "    print(cur_time.strftime(format))"
   ]
  },
  {
   "cell_type": "code",
   "execution_count": 17,
   "id": "eb63ae64",
   "metadata": {},
   "outputs": [
    {
     "name": "stdout",
     "output_type": "stream",
     "text": [
      "19-Sep-2023 04:50:51\n"
     ]
    }
   ],
   "source": [
    "custom_timestamp(\"%d-%b-%Y %H:%M:%S\")"
   ]
  },
  {
   "cell_type": "code",
   "execution_count": 19,
   "id": "9451e4f8",
   "metadata": {},
   "outputs": [],
   "source": [
    "def elapsed_time (y,mo,d,h,mi,s):\n",
    "    cur_time = unix_time(datetime.datetime.now())\n",
    "    given_time = unix_timestamp(datetime(y,mo,d,h,mi,s))\n",
    "    el_time = cur_time - given_time\n",
    "    print(el_time)"
   ]
  },
  {
   "cell_type": "code",
   "execution_count": 22,
   "id": "0c37e173",
   "metadata": {},
   "outputs": [
    {
     "name": "stdout",
     "output_type": "stream",
     "text": [
      "1695099449884.373\n"
     ]
    },
    {
     "ename": "TypeError",
     "evalue": "'module' object is not callable",
     "output_type": "error",
     "traceback": [
      "\u001b[0;31m---------------------------------------------------------------------------\u001b[0m",
      "\u001b[0;31mTypeError\u001b[0m                                 Traceback (most recent call last)",
      "Cell \u001b[0;32mIn[22], line 1\u001b[0m\n\u001b[0;32m----> 1\u001b[0m elapsed_time(\u001b[38;5;241m2023\u001b[39m,\u001b[38;5;241m9\u001b[39m,\u001b[38;5;241m17\u001b[39m,\u001b[38;5;241m4\u001b[39m,\u001b[38;5;241m44\u001b[39m,\u001b[38;5;241m56.1\u001b[39m)\n",
      "Cell \u001b[0;32mIn[19], line 3\u001b[0m, in \u001b[0;36melapsed_time\u001b[0;34m(y, mo, d, h, mi, s)\u001b[0m\n\u001b[1;32m      1\u001b[0m \u001b[38;5;28;01mdef\u001b[39;00m \u001b[38;5;21melapsed_time\u001b[39m (y,mo,d,h,mi,s):\n\u001b[1;32m      2\u001b[0m     cur_time \u001b[38;5;241m=\u001b[39m unix_time(datetime\u001b[38;5;241m.\u001b[39mdatetime\u001b[38;5;241m.\u001b[39mnow())\n\u001b[0;32m----> 3\u001b[0m     given_time \u001b[38;5;241m=\u001b[39m unix_timestamp(datetime(y,mo,d,h,mi,s))\n\u001b[1;32m      4\u001b[0m     el_time \u001b[38;5;241m=\u001b[39m cur_time \u001b[38;5;241m-\u001b[39m given_time\n\u001b[1;32m      5\u001b[0m     \u001b[38;5;28mprint\u001b[39m(el_time)\n",
      "\u001b[0;31mTypeError\u001b[0m: 'module' object is not callable"
     ]
    }
   ],
   "source": [
    "elapsed_time(2023,9,17,4,44,56.1)"
   ]
  },
  {
   "cell_type": "code",
   "execution_count": 27,
   "id": "3a93cc4c",
   "metadata": {},
   "outputs": [
    {
     "data": {
      "text/plain": [
       "30"
      ]
     },
     "execution_count": 27,
     "metadata": {},
     "output_type": "execute_result"
    }
   ],
   "source": [
    "def func(a,b,c=5):\n",
    "    return a*b*c\n",
    "\n",
    "func(2,3)"
   ]
  },
  {
   "cell_type": "code",
   "execution_count": 31,
   "id": "e4383d90",
   "metadata": {},
   "outputs": [
    {
     "name": "stdout",
     "output_type": "stream",
     "text": [
      "(2, 3, 4)\n",
      "2\n",
      "3\n",
      "4\n",
      "<class 'tuple'>\n"
     ]
    }
   ],
   "source": [
    "def fun(*nums):\n",
    "    print(nums)\n",
    "    for i in nums:\n",
    "        print(i)\n",
    "    print(type(nums))\n",
    "    \n",
    "fun(2,3,4)"
   ]
  },
  {
   "cell_type": "code",
   "execution_count": 35,
   "id": "6fa85223",
   "metadata": {},
   "outputs": [
    {
     "name": "stdout",
     "output_type": "stream",
     "text": [
      "120\n"
     ]
    }
   ],
   "source": [
    "def factorial (n):\n",
    "    if n <= 1:\n",
    "        return 1\n",
    "\n",
    "    return n * factorial(n-1)\n",
    "\n",
    "print(factorial(5))"
   ]
  },
  {
   "cell_type": "code",
   "execution_count": 59,
   "id": "2badd924",
   "metadata": {},
   "outputs": [],
   "source": [
    "oil_well = {\n",
    "    \"name\": \"Well A\",\n",
    "    \"initial_reserves\": 1000,  # Initial oil reserves in barrels\n",
    "    \"decline_rate\": 0.1,       # Annual decline rate\n",
    "}"
   ]
  },
  {
   "cell_type": "code",
   "execution_count": 60,
   "id": "6168ad97",
   "metadata": {},
   "outputs": [],
   "source": [
    "def calcDecline (nyears):\n",
    "    print(\"Number of years =\", nyears)\n",
    "    if nyears <= 0:\n",
    "        print(oil_well[\"initial_reserves\"])\n",
    "    \n",
    "    else:\n",
    "        remaining_reserves = oil_well[\"initial_reserves\"]\n",
    "        for i in range(1,nyears+1):\n",
    "            remaining_reserves -= oil_well[\"decline_rate\"]\n",
    "            print(\"N years = \",i)\n",
    "            print(remaining_reserves)\n",
    "           \n",
    "    "
   ]
  },
  {
   "cell_type": "code",
   "execution_count": 57,
   "id": "beac7a0a",
   "metadata": {},
   "outputs": [
    {
     "name": "stdout",
     "output_type": "stream",
     "text": [
      "Number of years = 10\n",
      "N years =  1\n",
      "999.8\n",
      "N years =  2\n",
      "999.5999999999999\n",
      "N years =  3\n",
      "999.3999999999999\n",
      "N years =  4\n",
      "999.1999999999998\n",
      "N years =  5\n",
      "998.9999999999998\n",
      "N years =  6\n",
      "998.7999999999997\n",
      "N years =  7\n",
      "998.5999999999997\n",
      "N years =  8\n",
      "998.3999999999996\n",
      "N years =  9\n",
      "998.1999999999996\n",
      "N years =  10\n",
      "997.9999999999995\n"
     ]
    }
   ],
   "source": [
    "calcDecline (10)"
   ]
  },
  {
   "cell_type": "code",
   "execution_count": 61,
   "id": "db0e4db1",
   "metadata": {},
   "outputs": [],
   "source": [
    "# Sample data for transportation routes\n",
    "routes = [\n",
    "    {\"route_id\": 1, \"route_name\": \"Route A\", \"capacity\": 100, \"cost_per_km\": 2.5},\n",
    "    {\"route_id\": 2, \"route_name\": \"Route B\", \"capacity\": 150, \"cost_per_km\": 3.0},\n",
    "    {\"route_id\": 3, \"route_name\": \"Route C\", \"capacity\": 200, \"cost_per_km\": 2.0},\n",
    "]\n",
    "\n",
    "# Sample data for product shipments\n",
    "shipments = [\n",
    "    {\"shipment_id\": 101, \"product_type\": \"Crude Oil\", \"quantity\": 50, \"distance_km\": 200},\n",
    "    {\"shipment_id\": 102, \"product_type\": \"Natural Gas\", \"quantity\": 1000, \"distance_km\": 300},\n",
    "    {\"shipment_id\": 103, \"product_type\": \"Crude Oil\", \"quantity\": 80, \"distance_km\": 150},\n",
    "    {\"shipment_id\": 104, \"product_type\": \"Liquefied Natural Gas (LNG)\", \"quantity\": 500, \"distance_km\": 250},\n",
    "]\n",
    "\n",
    "# Sample data for distribution centers\n",
    "distribution_centers = [\n",
    "    {\"center_id\": 1, \"center_name\": \"Center X\", \"location\": \"City A\"},\n",
    "    {\"center_id\": 2, \"center_name\": \"Center Y\", \"location\": \"City B\"},\n",
    "    {\"center_id\": 3, \"center_name\": \"Center Z\", \"location\": \"City C\"},\n",
    "]\n",
    "\n",
    "# Sample data for available routes and their capacities\n",
    "available_routes = [\n",
    "    {\"route_id\": 1, \"capacity_available\": 80},\n",
    "    {\"route_id\": 2, \"capacity_available\": 120},\n",
    "    {\"route_id\": 3, \"capacity_available\": 180},\n",
    "]\n",
    "\n",
    "# Sample data for logging shipment activities\n",
    "shipment_logs = []\n",
    "\n",
    "# Sample data for product scheduling (for recursive function)\n",
    "product_quantities = {\n",
    "    \"Crude Oil\": 200,\n",
    "    \"Natural Gas\": 800,\n",
    "    \"Liquefied Natural Gas (LNG)\": 300,\n",
    "}"
   ]
  },
  {
   "cell_type": "code",
   "execution_count": 70,
   "id": "b0373fbe",
   "metadata": {},
   "outputs": [
    {
     "name": "stdout",
     "output_type": "stream",
     "text": [
      "Hello  moony\n"
     ]
    }
   ],
   "source": [
    "def greeting (name):\n",
    "    print(\"Hello \", name)\n",
    "greeting(\"moony\")"
   ]
  },
  {
   "cell_type": "code",
   "execution_count": 82,
   "id": "aae1e66f",
   "metadata": {},
   "outputs": [],
   "source": [
    "def decor (greeting):\n",
    "    def inner (name):\n",
    "        if name == \"Sunny\":\n",
    "            print (\"Hi Sunny\")\n",
    "        else:\n",
    "            greeting (name)\n",
    "            return inner\n",
    "        \n",
    "decor(\"Sunny\")\n",
    "decor(\"moony\")"
   ]
  },
  {
   "cell_type": "code",
   "execution_count": 1,
   "id": "a62eed56",
   "metadata": {},
   "outputs": [
    {
     "name": "stdout",
     "output_type": "stream",
     "text": [
      "Start countdown\n",
      "5\n",
      "4\n",
      "3\n",
      "2\n",
      "1\n"
     ]
    }
   ],
   "source": [
    "def countdown (num):\n",
    "    print(\"Start countdown\")\n",
    "    while (num>0):\n",
    "        yield num\n",
    "        num = num - 1\n",
    "values = countdown(5)\n",
    "for x in values:\n",
    "    print(x)"
   ]
  },
  {
   "cell_type": "code",
   "execution_count": 2,
   "id": "eff8e610",
   "metadata": {},
   "outputs": [],
   "source": [
    "class Route:\n",
    "    def __init__(self, route_id, route_name, capacity, cost_per_km):\n",
    "        self.route_id = route_id\n",
    "        self.route_name = route_name\n",
    "        self.capacity = capacity\n",
    "        self.cost_per_km = cost_per_km\n",
    "        self.capacity_available = capacity\n",
    "\n",
    "class Shipment:\n",
    "    def __init__(self, shipment_id, product_type, quantity, distance_km):\n",
    "        self.shipment_id = shipment_id\n",
    "        self.product_type = product_type\n",
    "        self.quantity = quantity\n",
    "        self.distance_km = distance_km\n",
    "        self.cost = 0  # Placeholder for calculated cost\n",
    "\n",
    "class DistributionCenter:\n",
    "    def __init__(self, center_id, center_name, location):\n",
    "        self.center_id = center_id\n",
    "        self.center_name = center_name\n",
    "        self.location = location\n",
    "\n",
    "class LogisticsManager:\n",
    "    def __init__(self, routes, shipments, distribution_centers):\n",
    "        self.routes = [Route(**r) for r in routes]\n",
    "        self.shipments = [Shipment(**s) for s in shipments]\n",
    "        self.distribution_centers = [DistributionCenter(**dc) for dc in distribution_centers]\n",
    "\n",
    "    def calculate_transport_cost(self, route, shipment):\n",
    "        cost = route.cost_per_km * shipment.distance_km\n",
    "        return cost\n",
    "\n",
    "    def check_route_availability(self, route, shipment):\n",
    "        if route.capacity_available >= shipment.quantity:\n",
    "            return True\n",
    "        else:\n",
    "            return False\n",
    "\n",
    "    def optimize_shipments(self):\n",
    "        for shipment in self.shipments:\n",
    "            for route in self.routes:\n",
    "                if self.check_route_availability(route, shipment):\n",
    "                    cost = self.calculate_transport_cost(route, shipment)\n",
    "                    if not shipment.cost or cost < shipment.cost:\n",
    "                        shipment.cost = cost\n",
    "                        shipment.selected_route = route\n",
    "\n",
    "    def display_shipment_schedule(self):\n",
    "        for shipment in self.shipments:\n",
    "            print(f\"Shipment ID {shipment.shipment_id}:\")\n",
    "            print(f\"  Product Type: {shipment.product_type}\")\n",
    "            print(f\"  Quantity: {shipment.quantity}\")\n",
    "            print(f\"  Distance (km): {shipment.distance_km}\")\n",
    "            print(f\"  Selected Route: {shipment.selected_route.route_name}\")\n",
    "            print(f\"  Transportation Cost: {shipment.cost:.2f}\")\n",
    "            print(\"=\" * 40)"
   ]
  },
  {
   "cell_type": "code",
   "execution_count": 5,
   "id": "f25b77ac",
   "metadata": {},
   "outputs": [],
   "source": [
    "y = lambda x : x.upper()"
   ]
  },
  {
   "cell_type": "code",
   "execution_count": 6,
   "id": "15ebb88e",
   "metadata": {},
   "outputs": [
    {
     "name": "stdout",
     "output_type": "stream",
     "text": [
      "HELLO\n"
     ]
    }
   ],
   "source": [
    "print(y('hello'))"
   ]
  },
  {
   "cell_type": "code",
   "execution_count": 1,
   "id": "ad382f42",
   "metadata": {},
   "outputs": [],
   "source": [
    "\n",
    "def solution(N):\n",
    "    def sum_of_digits(number):\n",
    "        return sum(map(int, str(number)))\n",
    "\n",
    "    current_number = N + 1\n",
    "    while True:\n",
    "        if sum_of_digits(current_number) == sum_of_digits(N):\n",
    "            return current_number\n",
    "        current_number += 1\n"
   ]
  },
  {
   "cell_type": "code",
   "execution_count": 2,
   "id": "df970db2",
   "metadata": {},
   "outputs": [
    {
     "data": {
      "text/plain": [
       "21"
      ]
     },
     "execution_count": 2,
     "metadata": {},
     "output_type": "execute_result"
    }
   ],
   "source": [
    "solution(12)"
   ]
  },
  {
   "cell_type": "code",
   "execution_count": 3,
   "id": "cc2f2a2b",
   "metadata": {},
   "outputs": [],
   "source": [
    "def solution1(N):\n",
    "    current_number = N + 1\n",
    "    while True:\n",
    "        if sum(map(int, str(current_number))) == sum(map(int, str(N))):\n",
    "            return current_number\n",
    "        current_number += 1\n"
   ]
  },
  {
   "cell_type": "code",
   "execution_count": 4,
   "id": "b0f14b98",
   "metadata": {},
   "outputs": [
    {
     "data": {
      "text/plain": [
       "21"
      ]
     },
     "execution_count": 4,
     "metadata": {},
     "output_type": "execute_result"
    }
   ],
   "source": [
    "solution1(12)"
   ]
  },
  {
   "cell_type": "code",
   "execution_count": 6,
   "id": "d7a08e40",
   "metadata": {},
   "outputs": [
    {
     "name": "stdout",
     "output_type": "stream",
     "text": [
      "12\n"
     ]
    }
   ],
   "source": [
    "numbers = [1, 2, 3, 4, 5, 6]\n",
    "even_sum = sum([x for x in numbers if x % 2 == 0])\n",
    "print(even_sum)\n"
   ]
  },
  {
   "cell_type": "code",
   "execution_count": 7,
   "id": "89b13570",
   "metadata": {},
   "outputs": [],
   "source": [
    "squared_odd_numbers = [x**2 for x in numbers if x % 2 != 0]"
   ]
  },
  {
   "cell_type": "code",
   "execution_count": 8,
   "id": "14291b7a",
   "metadata": {},
   "outputs": [
    {
     "name": "stdout",
     "output_type": "stream",
     "text": [
      "[1, 9, 25]\n"
     ]
    }
   ],
   "source": [
    "print(squared_odd_numbers)"
   ]
  },
  {
   "cell_type": "code",
   "execution_count": 9,
   "id": "17af91ce",
   "metadata": {},
   "outputs": [
    {
     "name": "stdout",
     "output_type": "stream",
     "text": [
      "[1, 4, 9, 16, 25]\n"
     ]
    }
   ],
   "source": [
    "numbers = [1, 2, 3, 4, 5]\n",
    "squared = []\n",
    "\n",
    "for i in numbers:\n",
    "    squared.append(i ** 2)\n",
    "\n",
    "print(squared)"
   ]
  },
  {
   "cell_type": "code",
   "execution_count": 10,
   "id": "8c6c93d8",
   "metadata": {},
   "outputs": [],
   "source": [
    "def solution2(A, B):\n",
    "    min_length = min(A, B)\n",
    "    max_square = min_length // 4\n",
    "    for length in range(max_square, 0, -1):\n",
    "        if A % (4 * length) == 0 and B % (4 * length) == 0:\n",
    "            return length\n",
    "    return 0\n"
   ]
  },
  {
   "cell_type": "code",
   "execution_count": 11,
   "id": "1749a1e8",
   "metadata": {},
   "outputs": [
    {
     "data": {
      "text/plain": [
       "0"
      ]
     },
     "execution_count": 11,
     "metadata": {},
     "output_type": "execute_result"
    }
   ],
   "source": [
    "solution2(10,21)"
   ]
  },
  {
   "cell_type": "code",
   "execution_count": null,
   "id": "b0f7627c",
   "metadata": {},
   "outputs": [],
   "source": []
  }
 ],
 "metadata": {
  "kernelspec": {
   "display_name": "Python 3 (ipykernel)",
   "language": "python",
   "name": "python3"
  },
  "language_info": {
   "codemirror_mode": {
    "name": "ipython",
    "version": 3
   },
   "file_extension": ".py",
   "mimetype": "text/x-python",
   "name": "python",
   "nbconvert_exporter": "python",
   "pygments_lexer": "ipython3",
   "version": "3.11.4"
  }
 },
 "nbformat": 4,
 "nbformat_minor": 5
}
